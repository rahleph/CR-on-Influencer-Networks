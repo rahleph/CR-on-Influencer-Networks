{
 "cells": [
  {
   "cell_type": "markdown",
   "metadata": {},
   "source": [
    "Here we integrate the partition mean fields using the Ott-Antonsen ansatz for phase equations\n",
    "\n",
    "$$\n",
    "     \\dot\\vartheta_n = 1.0 + \\sigma\\nu_n + \\frac{\\lambda}{\\mu_n} \\sum_{k} A_{nk}\\sin(\\psi_k-\\vartheta_n-\\alpha)\n",
    "$$\n",
    "in the followers, and\n",
    "\n",
    "$$\n",
    "    \\dot \\psi_k = \\beta\\left(1.0 + \\frac{\\lambda}{\\mu_k}\\sum_n A_{kn}\\sin(\\vartheta_n-\\psi_k-\\alpha)\\right) + \\sqrt{2q\\beta}\\eta(t)\n",
    "$$\n",
    "in the influencers.\n",
    "\n",
    "We also integrate the deterministic equations obtained from averaging of fast influencer dynamics using the continued fraction solution of the stochastic Adler equation."
   ]
  },
  {
   "cell_type": "code",
   "execution_count": 1,
   "metadata": {},
   "outputs": [
    {
     "name": "stdout",
     "output_type": "stream",
     "text": [
      "numpy version :  1.19.1\n"
     ]
    }
   ],
   "source": [
    "# import necessary numerics and graphics modules\n",
    "from pylab import *\n",
    "print('numpy version : ',np.__version__)"
   ]
  },
  {
   "cell_type": "code",
   "execution_count": 2,
   "metadata": {},
   "outputs": [],
   "source": [
    "#set up system parameters\n",
    "\n",
    "# weights for partitions of followers of influencers A and B\n",
    "wA0 = 0.5\n",
    "wA2 = 0.5\n",
    "wB1 = 0.5\n",
    "wB2 = 0.5\n",
    "\n",
    "# frequencies in the follower groups 0, 1 and 2\n",
    "om0 = 1.0 \n",
    "om1 = 1.0\n",
    "om2 = 1.0\n",
    "\n",
    "alpha = -0.1\n",
    "\n",
    "sgm0 = 0.01\n",
    "\n",
    "lam=0.5\n",
    "\n",
    "# coupling intensity parameters of influencers A and B\n",
    "betaA = 16.0\n",
    "betaB = 26.0\n",
    "\n",
    "# (effective) noise strengths in the influencers\n",
    "qA = 1.0\n",
    "qB = 1.0\n",
    "DA = qA*betaA\n",
    "DB = qB*betaB"
   ]
  },
  {
   "cell_type": "code",
   "execution_count": 3,
   "metadata": {},
   "outputs": [],
   "source": [
    "# random initial follower partition mean fields\n",
    "Z0 = 0.5*exp(1j*np.random.random()*2*pi)\n",
    "Z1 = 0.5*exp(1j*np.random.random()*2*pi)\n",
    "Z2 = 0.5*exp(1j*np.random.random()*2*pi)\n",
    "\n",
    "# random initial influencer phases\n",
    "psiA = np.random.random()*2*pi\n",
    "psiB = np.random.random()*2*pi"
   ]
  },
  {
   "cell_type": "markdown",
   "metadata": {},
   "source": [
    "$$\n",
    "    \\dot Z = iZ\\left(\\bar{f}Z + (h+i\\sigma) + fZ^{-1}\\right) = \\left(\\dot\\Theta -i\\frac{\\dot R}{R} \\right) i Re^{i\\Theta} = \\left(\\bar{f}Re^{i\\Theta} + (h+i\\sigma) + fR^{-1}e^{-i\\Theta}\\right) iRe^{i\\Theta}\n",
    "$$"
   ]
  },
  {
   "cell_type": "markdown",
   "metadata": {},
   "source": [
    "$$\n",
    "    \\left(\\bar{f}Re^{i\\Theta} + (h+i\\sigma) + fR^{-1}e^{-i\\Theta}\\right)\n",
    "    = \\left(\\bar{f}Re^{i\\Theta} + fR e^{-i\\Theta} + (h+i\\sigma) + fR^{-1}e^{-i\\Theta}-f Re^{-i\\Theta}\\right)\n",
    "    = \\left(2R\\textrm{Re}\\left[fe^{-i\\Theta}\\right] +(h+i\\sigma)+ \\left(R^{-1}-R\\right)fe^{-i\\Theta}\\right)\n",
    "    = 2R\\textrm{Re}\\left[fe^{-i\\Theta}\\right] +(h+i\\sigma)+ \\frac{1-R^2}{R}\\left(\\textrm{Re}\\left[fe^{-i\\Theta}\\right] + i \\textrm{Im}\\left[fe^{-i\\Theta}\\right]\\right)\n",
    "$$"
   ]
  },
  {
   "cell_type": "markdown",
   "metadata": {},
   "source": [
    "$$\n",
    "    \\left(\\dot\\Theta -i\\frac{\\dot R}{R} \\right)= \\left(\\frac{1+R^2}{R}\\textrm{Re}\\left[fe^{-i\\Theta}\\right] + h\\right) \n",
    "    + i \\frac{1}{R}\\left(R\\sigma + (1-R^2)\\textrm{Im}\\left[fe^{-i\\Theta}\\right]\\right)\n",
    "$$\n",
    "\n",
    "$\\Theta$ has singularity at $R=0$ but the ODEs for $\\Theta$ and $R$ are integrated more accurately near $R=1$ than the ODE for $Z$."
   ]
  },
  {
   "cell_type": "code",
   "execution_count": 4,
   "metadata": {},
   "outputs": [],
   "source": [
    "def WSOA_EulerStep(Z,f,h,sgm,dt) :\n",
    "    \"\"\"Integrate an Euler step for Z on the unit disc subject to ODE\n",
    "    \\dot Z = iZ\\left(\\bar{f}Z + (h+i\\sigma) + fZ^{-1}\\right)\n",
    "    \n",
    "    If R<0.95 use the complex ODE, otherwise integrate ODEs for amplitude\n",
    "    and phase of Z\n",
    "    \"\"\"\n",
    "    R = np.abs(Z)\n",
    "    if R<0.95 :\n",
    "        dZ = 1j*(f.conj()*Z**2+(h+1j*sgm)*Z+f)\n",
    "        Z+=dZ*dt\n",
    "    else :\n",
    "        Th = np.angle(Z)\n",
    "        H = f*exp(-1j*Th)\n",
    "    \n",
    "        dTh = ((1+R*R)/R*H.real+h)\n",
    "        dR  = -(H.imag*(1-R*R)+sgm*R)\n",
    "        R+=dR*dt\n",
    "        Th = mod(Th+dTh*dt,2*pi)\n",
    "        Z = R*exp(1j*Th)\n",
    "        \n",
    "    return Z"
   ]
  },
  {
   "cell_type": "code",
   "execution_count": 5,
   "metadata": {},
   "outputs": [
    {
     "name": "stdout",
     "output_type": "stream",
     "text": [
      "0 1 2 3 4 5 6 7 8 9 10 11 12 13 14 15 16 17 18 19 20 21 22 23 24 25 26 27 28 29 30 31 32 33 34 35 36 37 38 39 40 41 42 43 44 45 46 47 48 49 50 51 52 53 54 55 56 57 58 59 60 61 62 63 64 65 66 67 68 69 70 71 72 73 74 75 76 77 78 79 80 81 82 83 84 85 86 87 88 89 90 91 92 93 94 95 96 97 98 99 \n",
      ".done.\n"
     ]
    }
   ],
   "source": [
    "# run simulation of follower mean fields and stochastic influencer phases\n",
    "# for a time dt*steps\n",
    "\n",
    "dt = 0.001\n",
    "steps = 1000000\n",
    "\n",
    "# record of follower partition mean fields\n",
    "Z0hist = np.zeros(steps,dtype=complex)\n",
    "Z1hist = np.zeros(steps,dtype=complex)\n",
    "Z2hist = np.zeros(steps,dtype=complex)\n",
    "\n",
    "pctlast=-1\n",
    "for t in range(steps) :\n",
    "    \n",
    "    # progress counter\n",
    "    pct = (t*100//steps)\n",
    "    if pct!=pctlast :\n",
    "        print(pct,end=' ')\n",
    "        pctlast=pct\n",
    "\n",
    "    \n",
    "    Z0hist[t]=Z0\n",
    "    Z1hist[t]=Z1\n",
    "    Z2hist[t]=Z2\n",
    "    \n",
    "    # forces on the follower partions\n",
    "    f0 = lam/(2*1j)*exp(1j*(psiA-alpha))\n",
    "    f1 = lam/(2*1j)*exp(1j*(psiB-alpha))\n",
    "    f2 = lam/(2*1j)*exp(-1j*alpha)*(exp(1j*psiA)+exp(1j*psiB))/2\n",
    "    \n",
    "    # deterministic part of force on influencers\n",
    "    dpsiA = betaA*(1.0+lam*((wA0*Z0+wA2*Z2)*exp(-1j*alpha)*exp(-1j*psiA)).imag)\n",
    "    dpsiB = betaB*(1.0+lam*((wB1*Z1+wB2*Z2)*exp(-1j*alpha)*exp(-1j*psiB)).imag)\n",
    "\n",
    "    Z0 = WSOA_EulerStep(Z0,f0,om0,sgm0,dt)\n",
    "    Z1 = WSOA_EulerStep(Z1,f1,om1,sgm0,dt)\n",
    "    Z2 = WSOA_EulerStep(Z2,f2,om2,sgm0,dt)\n",
    "    psiA = mod(psiA+dt*dpsiA + sqrt(2*DA*dt)*np.random.randn(),2*pi)\n",
    "    psiB = mod(psiB+dt*dpsiB + sqrt(2*DB*dt)*np.random.randn(),2*pi)\n",
    "\n",
    "\n",
    "print('\\n.done.')"
   ]
  },
  {
   "cell_type": "code",
   "execution_count": 9,
   "metadata": {
    "scrolled": true
   },
   "outputs": [
    {
     "data": {
      "image/png": "[encoded data removed]",
      "text/plain": [
       "<Figure size 432x288 with 1 Axes>"
      ]
     },
     "metadata": {
      "needs_background": "light"
     },
     "output_type": "display_data"
    }
   ],
   "source": [
    "# plot the community order parameters and the network order parameter\n",
    "t=arange(steps)*dt\n",
    "plot(t,np.abs(Z0hist),'r',alpha=0.4)\n",
    "plot(t,np.abs(Z1hist),'g',alpha=0.4)\n",
    "plot(t,np.abs(Z2hist),'b',alpha=0.4)\n",
    "plot(t,np.abs(Z0hist+Z1hist+Z2hist)/3,'k',alpha=0.8)\n",
    "ylim(0,1)\n",
    "xlim(t[0],t[-1])\n",
    "xlabel('$t$',fontsize=14)\n",
    "ylabel('$R$',fontsize=14,rotation=0)\n",
    "show()"
   ]
  },
  {
   "cell_type": "code",
   "execution_count": 10,
   "metadata": {},
   "outputs": [],
   "source": [
    "import numpy as np\n",
    "\n",
    "def GetYourSoxOn(f,h,D) :\n",
    "    \"\"\"Define the constants s=-i f^*/|f|, o=1-ih/D and x=D/|f| from\n",
    "    the Adler equation \\dot \\varphi = iz(f^*z + h + \\sqrt{2D}\\eta + fz^*)\"\"\"\n",
    "    tiny=1e-30\n",
    "    f=np.array(f)\n",
    "    f[np.abs(f)==0]=tiny\n",
    "    s = -1.0j*f.conj()/np.abs(f)\n",
    "    o = 1.0-1.0j*h/D\n",
    "    x = D/np.abs(f)\n",
    "    return s,o,x\n",
    "\n",
    "\n",
    "def MrKnox(s,o,k,x) :\n",
    "    \"\"\"Calculate the continued fraction p_k/p_{k-1} \n",
    "    = 1/(s o_k x) 1 / (o_k + x^{-2}/((o_k+1) + x^{-2}/((o_k+2) + x^{-2}/...)))\n",
    "    \n",
    "    standard continued fraction algorithm\n",
    "    \"\"\"\n",
    "    tiny=1e-30\n",
    "    eps=1e-10\n",
    "    o=o+k-1\n",
    "    o = np.array(o)\n",
    "    scalar = o.shape==()\n",
    "    if scalar : o.shape=1 # all variables need to be arrays for propper indexing\n",
    "    fnow=np.array(o)\n",
    "    fnow[fnow==0]=tiny\n",
    "    Cnow=fnow\n",
    "    Dnow=0.0;\n",
    "    x = np.array(x)\n",
    "    x[x==0]=tiny\n",
    "    z=1.0/(x*x)    \n",
    "    j=1\n",
    "    while True :\n",
    "        Dnow=o+j+z*Dnow;\n",
    "        Dnow[Dnow==0]=tiny;\n",
    "        Cnow = o+j+z/Cnow;\n",
    "        Cnow[Cnow==0]=tiny;\n",
    "        Dnow=1./Dnow\n",
    "        Deltanow=Cnow*Dnow\n",
    "        fnow=fnow*Deltanow\n",
    "        maxerr=np.max(np.abs(Deltanow-1))\n",
    "        if maxerr<eps :\n",
    "            f = 1.0/fnow\n",
    "            break\n",
    "        j=j+1\n",
    "    if scalar : return (f/(s*x))[0] # return scalar\n",
    "    else : return f/(s*x)           # return array"
   ]
  },
  {
   "cell_type": "markdown",
   "metadata": {},
   "source": [
    "Calculation of curves with $\\dot R=0$ :"
   ]
  },
  {
   "cell_type": "code",
   "execution_count": 40,
   "metadata": {},
   "outputs": [],
   "source": [
    "R = np.linspace(0.001,0.99,200)\n",
    "q = np.linspace(0.01,10,200)\n",
    "q,R = meshgrid(q,R)\n",
    "lam = 0.5\n",
    "w = 1.0\n",
    "beta = 10\n",
    "D = q*beta\n",
    "alpha=-0.1"
   ]
  },
  {
   "cell_type": "code",
   "execution_count": 41,
   "metadata": {},
   "outputs": [],
   "source": [
    "f = beta*exp(-1j*alpha)*lam/(2j)*R\n",
    "h = beta*w"
   ]
  },
  {
   "cell_type": "code",
   "execution_count": 42,
   "metadata": {},
   "outputs": [],
   "source": [
    "s,o,x = GetYourSoxOn(f,h,D)\n",
    "G = MrKnox(s,o,1,x)"
   ]
  },
  {
   "cell_type": "code",
   "execution_count": 43,
   "metadata": {},
   "outputs": [],
   "source": [
    "sgm = (exp(-1j*alpha)*lam/(2)*G).real*(1-R**2)/R"
   ]
  },
  {
   "cell_type": "code",
   "execution_count": 50,
   "metadata": {
    "scrolled": true
   },
   "outputs": [
    {
     "data": {
      "image/png": "[encoded data removed]",
      "text/plain": [
       "<Figure size 432x288 with 2 Axes>"
      ]
     },
     "metadata": {
      "needs_background": "light"
     },
     "output_type": "display_data"
    }
   ],
   "source": [
    "contourf(q,R,sgm,levels=20,cmap='hot')\n",
    "colorbar()\n",
    "contour(q,R,sgm,levels=20,colors='k',alpha=0.4)\n",
    "xlabel('$q$',fontsize=14)\n",
    "ylabel('$R$',fontsize=14,rotation=0)\n",
    "text(13,0.4,r'$\\sigma$',rotation=0,fontsize=14)\n",
    "show()"
   ]
  },
  {
   "cell_type": "code",
   "execution_count": 34,
   "metadata": {},
   "outputs": [],
   "source": [
    "def G(Z1,Z2,N1,N2,q,ohm,lam,alpha) :\n",
    "    \"\"\"time averaged influencer field (coupling function in hypergraph)\n",
    "    with two follower groups of mean fields Z1 and Z2, and sizes N1 and N2\n",
    "    effective noise strangth q, coupling strength Lambda and \n",
    "    phase frustration alpha in the influencer\n",
    "    \"\"\"\n",
    "\n",
    "    # force on influecner\n",
    "    f = exp(-1j*alpha)*lam/(2j)*(N1/(N1+N2)*Z1 + N2/(N1+N2)*Z2)\n",
    "    \n",
    "    s = np.abs(f)/(1j*f)\n",
    "    o = 1 - 1j*ohm/q\n",
    "    x = q/np.abs(f)\n",
    "    \n",
    "    p1 = MrKnox(s,o,1,x)\n",
    "    return p1\n",
    "\n",
    "\n",
    "def ThreePartsODE(Z0,Z1,Z2,N0,N1,N2,qA,qB,ohm,lam,alpha,sgm) :\n",
    "    \"\"\"\n",
    "    ODE time derivatives for the complex follower mean fields Z0, Z1 and Z2\n",
    "    with group sizes N0, N1 and N2, effective noise qA and qB in the influencers,\n",
    "    frequencies ohm in the followers and frequency heterogeneity sgm,\n",
    "    coupling strength lambda, phase frustration alpha\n",
    "    \"\"\"\n",
    "    f0 = exp(-1j*alpha)*lam/(2j)*G(Z0,Z2,N0,N2,qA,ohm,lam,alpha)\n",
    "    f1 = exp(-1j*alpha)*lam/(2j)*G(Z1,Z2,N1,N2,qB,ohm,lam,alpha)\n",
    "    f2 = (f0+f1)/2\n",
    "    \n",
    "    h = ohm+1j*sgm\n",
    "    \n",
    "    dZ0 = 1j*(f0.conj()*Z0**2 + h *Z0 + f0)\n",
    "    dZ1 = 1j*(f1.conj()*Z1**2 + h *Z1 + f1)\n",
    "    dZ2 = 1j*(f2.conj()*Z2**2 + h *Z2 + f2)\n",
    "    \n",
    "    return dZ0,dZ1,dZ2"
   ]
  },
  {
   "cell_type": "code",
   "execution_count": 35,
   "metadata": {},
   "outputs": [],
   "source": [
    "Z0 = np.random.random()*exp(1j*np.random.random()*2*pi)\n",
    "Z1 = np.random.random()*exp(1j*np.random.random()*2*pi)\n",
    "Z2 = np.random.random()*exp(1j*np.random.random()*2*pi)"
   ]
  },
  {
   "cell_type": "code",
   "execution_count": 36,
   "metadata": {},
   "outputs": [],
   "source": [
    "lam=0.5\n",
    "qA=1.5\n",
    "qB=1.5\n",
    "w0=1.0\n",
    "alpha=-0.1\n",
    "sgm=0.01\n",
    "\n",
    "N0=200\n",
    "N1=200\n",
    "N2=200"
   ]
  },
  {
   "cell_type": "code",
   "execution_count": 37,
   "metadata": {},
   "outputs": [
    {
     "name": "stdout",
     "output_type": "stream",
     "text": [
      "0 1 2 3 4 5 6 7 8 9 10 11 12 13 14 15 16 17 18 19 20 21 22 23 24 25 26 27 28 29 30 31 32 33 34 35 36 37 38 39 40 41 42 43 44 45 46 47 48 49 50 51 52 53 54 55 56 57 58 59 60 61 62 63 64 65 66 67 68 69 70 71 72 73 74 75 76 77 78 79 80 81 82 83 84 85 86 87 88 89 90 91 92 93 94 95 96 97 98 99 "
     ]
    }
   ],
   "source": [
    "# run simulation of follower mean fields under the influence of\n",
    "# averaged fast influencer fields for a time dt*steps\n",
    "\n",
    "dt = 0.001\n",
    "steps = 1000000\n",
    "t=0.0\n",
    "\n",
    "R0hist=np.zeros(steps)\n",
    "R1hist=np.zeros(steps)\n",
    "R2hist=np.zeros(steps)\n",
    "\n",
    "Rhist=np.zeros(steps)\n",
    "\n",
    "pctlast=-1\n",
    "for t in range(steps) :\n",
    "    \n",
    "    pct = (t*100//steps)\n",
    "    if pct!=pctlast :\n",
    "        print(pct,end=' ')\n",
    "        pctlast=pct\n",
    "\n",
    "    \n",
    "    R0hist[t] = np.abs(Z0)\n",
    "    R1hist[t] = np.abs(Z1)\n",
    "    R2hist[t] = np.abs(Z2)\n",
    "    Rhist[t] = np.abs((N0*Z0+N1*Z1+N2*Z2)/(N0+N1+N2))\n",
    "    \n",
    "    dZ0,dZ1,dZ2 = ThreePartsODE(Z0,Z1,Z2,N0,N1,N2,qA,qB,w0,lam,alpha,sgm)\n",
    "    \n",
    "    Z0 += dt*dZ0\n",
    "    Z1 += dt*dZ1\n",
    "    Z2 += dt*dZ2\n",
    "    \n",
    "print('\\n.done.')"
   ]
  },
  {
   "cell_type": "code",
   "execution_count": 51,
   "metadata": {
    "scrolled": false
   },
   "outputs": [
    {
     "data": {
      "image/png": "[encoded data removed]",
      "text/plain": [
       "<Figure size 432x288 with 1 Axes>"
      ]
     },
     "metadata": {
      "needs_background": "light"
     },
     "output_type": "display_data"
    }
   ],
   "source": [
    "t=arange(steps)*dt\n",
    "plot(t,R0hist,'r',alpha=0.4)\n",
    "plot(t,R1hist,'g',alpha=0.4)\n",
    "plot(t,R2hist,'b',alpha=0.4)\n",
    "plot(t,Rhist,'k',alpha=0.8)\n",
    "ylim(0,1)\n",
    "xlim(t[0],t[-1])\n",
    "xlabel('$t$',fontsize=14)\n",
    "ylabel('$R$',fontsize=14,rotation=0)\n",
    "\n",
    "show()"
   ]
  },
  {
   "cell_type": "code",
   "execution_count": null,
   "metadata": {},
   "outputs": [],
   "source": []
  }
 ],
 "metadata": {
  "kernelspec": {
   "display_name": "Python 3",
   "language": "python",
   "name": "python3"
  },
  "language_info": {
   "codemirror_mode": {
    "name": "ipython",
    "version": 3
   },
   "file_extension": ".py",
   "mimetype": "text/x-python",
   "name": "python",
   "nbconvert_exporter": "python",
   "pygments_lexer": "ipython3",
   "version": "3.7.9"
  }
 },
 "nbformat": 4,
 "nbformat_minor": 2
}
